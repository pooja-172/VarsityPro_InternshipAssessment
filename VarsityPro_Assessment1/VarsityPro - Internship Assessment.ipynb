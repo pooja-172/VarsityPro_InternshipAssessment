{
 "cells": [
  {
   "cell_type": "code",
   "execution_count": 1,
   "id": "6f2ef352",
   "metadata": {},
   "outputs": [
    {
     "name": "stdout",
     "output_type": "stream",
     "text": [
      "Collecting selenium\n",
      "  Using cached selenium-4.15.2-py3-none-any.whl (10.2 MB)\n",
      "Requirement already satisfied: certifi>=2021.10.8 in c:\\users\\pooja\\mambaforge\\lib\\site-packages (from selenium) (2021.10.8)\n",
      "Collecting trio~=0.17\n",
      "  Using cached trio-0.23.1-py3-none-any.whl (448 kB)\n",
      "Collecting trio-websocket~=0.9\n",
      "  Using cached trio_websocket-0.11.1-py3-none-any.whl (17 kB)\n",
      "Requirement already satisfied: urllib3[socks]<3,>=1.26 in c:\\users\\pooja\\mambaforge\\lib\\site-packages (from selenium) (1.26.7)\n",
      "Requirement already satisfied: idna in c:\\users\\pooja\\mambaforge\\lib\\site-packages (from trio~=0.17->selenium) (3.1)\n",
      "Requirement already satisfied: exceptiongroup>=1.0.0rc9 in c:\\users\\pooja\\mambaforge\\lib\\site-packages (from trio~=0.17->selenium) (1.1.1)\n",
      "Requirement already satisfied: attrs>=20.1.0 in c:\\users\\pooja\\mambaforge\\lib\\site-packages (from trio~=0.17->selenium) (21.2.0)\n",
      "Collecting sniffio>=1.3.0\n",
      "  Using cached sniffio-1.3.0-py3-none-any.whl (10 kB)\n",
      "Collecting outcome\n",
      "  Using cached outcome-1.3.0.post0-py2.py3-none-any.whl (10 kB)\n",
      "Requirement already satisfied: cffi>=1.14 in c:\\users\\pooja\\mambaforge\\lib\\site-packages (from trio~=0.17->selenium) (1.14.6)\n",
      "Collecting sortedcontainers\n",
      "  Using cached sortedcontainers-2.4.0-py2.py3-none-any.whl (29 kB)\n",
      "Collecting wsproto>=0.14\n",
      "  Using cached wsproto-1.2.0-py3-none-any.whl (24 kB)\n",
      "Requirement already satisfied: PySocks!=1.5.7,<2.0,>=1.5.6 in c:\\users\\pooja\\mambaforge\\lib\\site-packages (from urllib3[socks]<3,>=1.26->selenium) (1.7.1)\n",
      "Requirement already satisfied: pycparser in c:\\users\\pooja\\mambaforge\\lib\\site-packages (from cffi>=1.14->trio~=0.17->selenium) (2.20)\n"
     ]
    },
    {
     "name": "stderr",
     "output_type": "stream",
     "text": [
      "WARNING: Ignoring invalid distribution -rotobuf (c:\\users\\pooja\\mambaforge\\lib\\site-packages)\n",
      "WARNING: Ignoring invalid distribution -rotobuf (c:\\users\\pooja\\mambaforge\\lib\\site-packages)\n",
      "WARNING: Ignoring invalid distribution -rotobuf (c:\\users\\pooja\\mambaforge\\lib\\site-packages)\n",
      "WARNING: Ignoring invalid distribution -rotobuf (c:\\users\\pooja\\mambaforge\\lib\\site-packages)\n",
      "WARNING: Ignoring invalid distribution -rotobuf (c:\\users\\pooja\\mambaforge\\lib\\site-packages)\n",
      "WARNING: Ignoring invalid distribution -rotobuf (c:\\users\\pooja\\mambaforge\\lib\\site-packages)\n",
      "WARNING: Ignoring invalid distribution -rotobuf (c:\\users\\pooja\\mambaforge\\lib\\site-packages)\n",
      "WARNING: Ignoring invalid distribution -rotobuf (c:\\users\\pooja\\mambaforge\\lib\\site-packages)\n",
      "WARNING: Ignoring invalid distribution -rotobuf (c:\\users\\pooja\\mambaforge\\lib\\site-packages)\n",
      "WARNING: Ignoring invalid distribution -rotobuf (c:\\users\\pooja\\mambaforge\\lib\\site-packages)\n",
      "WARNING: Ignoring invalid distribution -rotobuf (c:\\users\\pooja\\mambaforge\\lib\\site-packages)\n",
      "WARNING: Ignoring invalid distribution -rotobuf (c:\\users\\pooja\\mambaforge\\lib\\site-packages)\n",
      "WARNING: Ignoring invalid distribution -rotobuf (c:\\users\\pooja\\mambaforge\\lib\\site-packages)\n",
      "WARNING: Ignoring invalid distribution -rotobuf (c:\\users\\pooja\\mambaforge\\lib\\site-packages)\n"
     ]
    },
    {
     "name": "stdout",
     "output_type": "stream",
     "text": [
      "Collecting h11<1,>=0.9.0\n",
      "  Using cached h11-0.14.0-py3-none-any.whl (58 kB)\n",
      "Installing collected packages: sortedcontainers, sniffio, outcome, h11, wsproto, trio, trio-websocket, selenium\n",
      "Successfully installed h11-0.14.0 outcome-1.3.0.post0 selenium-4.15.2 sniffio-1.3.0 sortedcontainers-2.4.0 trio-0.23.1 trio-websocket-0.11.1 wsproto-1.2.0\n"
     ]
    }
   ],
   "source": [
    "!pip install selenium"
   ]
  },
  {
   "cell_type": "code",
   "execution_count": 2,
   "id": "a45b878d",
   "metadata": {},
   "outputs": [
    {
     "name": "stdout",
     "output_type": "stream",
     "text": [
      "Requirement already satisfied: selenium in c:\\users\\pooja\\mambaforge\\lib\\site-packages (4.15.2)\n",
      "Requirement already satisfied: pandas in c:\\users\\pooja\\mambaforge\\lib\\site-packages (1.4.2)\n",
      "Requirement already satisfied: certifi>=2021.10.8 in c:\\users\\pooja\\mambaforge\\lib\\site-packages (from selenium) (2021.10.8)\n",
      "Requirement already satisfied: urllib3[socks]<3,>=1.26 in c:\\users\\pooja\\mambaforge\\lib\\site-packages (from selenium) (1.26.7)\n",
      "Requirement already satisfied: trio-websocket~=0.9 in c:\\users\\pooja\\mambaforge\\lib\\site-packages (from selenium) (0.11.1)\n",
      "Requirement already satisfied: trio~=0.17 in c:\\users\\pooja\\mambaforge\\lib\\site-packages (from selenium) (0.23.1)\n",
      "Requirement already satisfied: numpy>=1.18.5 in c:\\users\\pooja\\mambaforge\\lib\\site-packages (from pandas) (1.22.3)\n",
      "Requirement already satisfied: python-dateutil>=2.8.1 in c:\\users\\pooja\\mambaforge\\lib\\site-packages (from pandas) (2.8.2)\n",
      "Requirement already satisfied: pytz>=2020.1 in c:\\users\\pooja\\mambaforge\\lib\\site-packages (from pandas) (2022.1)\n",
      "Requirement already satisfied: six>=1.5 in c:\\users\\pooja\\mambaforge\\lib\\site-packages (from python-dateutil>=2.8.1->pandas) (1.16.0)\n",
      "Requirement already satisfied: sortedcontainers in c:\\users\\pooja\\mambaforge\\lib\\site-packages (from trio~=0.17->selenium) (2.4.0)\n",
      "Requirement already satisfied: idna in c:\\users\\pooja\\mambaforge\\lib\\site-packages (from trio~=0.17->selenium) (3.1)\n",
      "Requirement already satisfied: exceptiongroup>=1.0.0rc9 in c:\\users\\pooja\\mambaforge\\lib\\site-packages (from trio~=0.17->selenium) (1.1.1)\n",
      "Requirement already satisfied: cffi>=1.14 in c:\\users\\pooja\\mambaforge\\lib\\site-packages (from trio~=0.17->selenium) (1.14.6)\n",
      "Requirement already satisfied: outcome in c:\\users\\pooja\\mambaforge\\lib\\site-packages (from trio~=0.17->selenium) (1.3.0.post0)\n",
      "Requirement already satisfied: sniffio>=1.3.0 in c:\\users\\pooja\\mambaforge\\lib\\site-packages (from trio~=0.17->selenium) (1.3.0)\n",
      "Requirement already satisfied: attrs>=20.1.0 in c:\\users\\pooja\\mambaforge\\lib\\site-packages (from trio~=0.17->selenium) (21.2.0)\n",
      "Requirement already satisfied: wsproto>=0.14 in c:\\users\\pooja\\mambaforge\\lib\\site-packages (from trio-websocket~=0.9->selenium) (1.2.0)\n",
      "Requirement already satisfied: PySocks!=1.5.7,<2.0,>=1.5.6 in c:\\users\\pooja\\mambaforge\\lib\\site-packages (from urllib3[socks]<3,>=1.26->selenium) (1.7.1)\n",
      "Requirement already satisfied: pycparser in c:\\users\\pooja\\mambaforge\\lib\\site-packages (from cffi>=1.14->trio~=0.17->selenium) (2.20)\n",
      "Requirement already satisfied: h11<1,>=0.9.0 in c:\\users\\pooja\\mambaforge\\lib\\site-packages (from wsproto>=0.14->trio-websocket~=0.9->selenium) (0.14.0)\n"
     ]
    },
    {
     "name": "stderr",
     "output_type": "stream",
     "text": [
      "WARNING: Ignoring invalid distribution -rotobuf (c:\\users\\pooja\\mambaforge\\lib\\site-packages)\n",
      "WARNING: Ignoring invalid distribution -rotobuf (c:\\users\\pooja\\mambaforge\\lib\\site-packages)\n",
      "WARNING: Ignoring invalid distribution -rotobuf (c:\\users\\pooja\\mambaforge\\lib\\site-packages)\n",
      "WARNING: Ignoring invalid distribution -rotobuf (c:\\users\\pooja\\mambaforge\\lib\\site-packages)\n",
      "WARNING: Ignoring invalid distribution -rotobuf (c:\\users\\pooja\\mambaforge\\lib\\site-packages)\n",
      "WARNING: Ignoring invalid distribution -rotobuf (c:\\users\\pooja\\mambaforge\\lib\\site-packages)\n"
     ]
    }
   ],
   "source": [
    "!pip install selenium pandas"
   ]
  },
  {
   "cell_type": "code",
   "execution_count": 4,
   "id": "37656dd8",
   "metadata": {},
   "outputs": [
    {
     "name": "stdout",
     "output_type": "stream",
     "text": [
      "Collecting bs4\n",
      "  Downloading bs4-0.0.1.tar.gz (1.1 kB)\n",
      "  Preparing metadata (setup.py): started\n",
      "  Preparing metadata (setup.py): finished with status 'done'\n",
      "Collecting beautifulsoup4\n",
      "  Downloading beautifulsoup4-4.12.2-py3-none-any.whl (142 kB)\n",
      "Collecting soupsieve>1.2\n",
      "  Downloading soupsieve-2.5-py3-none-any.whl (36 kB)\n",
      "Building wheels for collected packages: bs4\n",
      "  Building wheel for bs4 (setup.py): started\n",
      "  Building wheel for bs4 (setup.py): finished with status 'done'\n",
      "  Created wheel for bs4: filename=bs4-0.0.1-py3-none-any.whl size=1271 sha256=93d90ae3adcaa37c4eb83b34477c912666a19b9c1effc725606db7fb68e7bb03\n",
      "  Stored in directory: c:\\users\\pooja\\appdata\\local\\pip\\cache\\wheels\\73\\2b\\cb\\099980278a0c9a3e57ff1a89875ec07bfa0b6fcbebb9a8cad3\n",
      "Successfully built bs4\n",
      "Installing collected packages: soupsieve, beautifulsoup4, bs4\n",
      "Successfully installed beautifulsoup4-4.12.2 bs4-0.0.1 soupsieve-2.5\n"
     ]
    },
    {
     "name": "stderr",
     "output_type": "stream",
     "text": [
      "WARNING: Ignoring invalid distribution -rotobuf (c:\\users\\pooja\\mambaforge\\lib\\site-packages)\n",
      "WARNING: Ignoring invalid distribution -rotobuf (c:\\users\\pooja\\mambaforge\\lib\\site-packages)\n",
      "WARNING: Ignoring invalid distribution -rotobuf (c:\\users\\pooja\\mambaforge\\lib\\site-packages)\n",
      "WARNING: Ignoring invalid distribution -rotobuf (c:\\users\\pooja\\mambaforge\\lib\\site-packages)\n",
      "WARNING: Ignoring invalid distribution -rotobuf (c:\\users\\pooja\\mambaforge\\lib\\site-packages)\n",
      "WARNING: Ignoring invalid distribution -rotobuf (c:\\users\\pooja\\mambaforge\\lib\\site-packages)\n",
      "WARNING: Ignoring invalid distribution -rotobuf (c:\\users\\pooja\\mambaforge\\lib\\site-packages)\n",
      "WARNING: Ignoring invalid distribution -rotobuf (c:\\users\\pooja\\mambaforge\\lib\\site-packages)\n",
      "WARNING: Ignoring invalid distribution -rotobuf (c:\\users\\pooja\\mambaforge\\lib\\site-packages)\n"
     ]
    }
   ],
   "source": [
    "!pip install bs4"
   ]
  },
  {
   "cell_type": "code",
   "execution_count": 6,
   "id": "c4456ed8",
   "metadata": {},
   "outputs": [],
   "source": [
    "from selenium import webdriver\n",
    "from bs4 import BeautifulSoup\n",
    "import pandas as pd\n",
    "\n",
    "# Function to scrape the page using Selenium\n",
    "def scrape_page(url):\n",
    "    driver = webdriver.Chrome() \n",
    "    driver.get(url)\n",
    "    \n",
    "    # Wait for the page to load (you might need to adjust the time)\n",
    "    driver.implicitly_wait(10)\n",
    "    \n",
    "    # Get the page source\n",
    "    page_source = driver.page_source\n",
    "    \n",
    "    driver.quit()\n",
    "    \n",
    "    return page_source\n",
    "\n",
    "# Function to extract paragraphs from HTML\n",
    "def extract_paragraphs(html):\n",
    "    soup = BeautifulSoup(html, 'html.parser')\n",
    "    paragraphs = [p.get_text() for p in soup.find_all('p')]\n",
    "    return paragraphs\n",
    "\n",
    "# Scraping the Wikipedia page\n",
    "url = \"https://en.wikipedia.org/wiki/Nikola_Tesla\"\n",
    "page_source = scrape_page(url)\n",
    "\n",
    "# Extracting paragraphs\n",
    "paragraphs = extract_paragraphs(page_source)"
   ]
  },
  {
   "cell_type": "code",
   "execution_count": 33,
   "id": "65f41e41",
   "metadata": {},
   "outputs": [
    {
     "data": {
      "text/plain": [
       "['\\n',\n",
       " 'Nikola Tesla (/ˈtɛslə/; Serbian Cyrillic: Никола Тесла,[2] [nǐkola têsla];[a] 10 July [O.S. 28 June] 1856\\xa0– 7 January 1943) was a Serbian-American[5][6] inventor, electrical engineer, mechanical engineer, and futurist. He is best-known for his contributions to the design of the modern alternating current (AC) electricity supply system.[7]\\n',\n",
       " 'Born and raised in the Austrian Empire, Tesla first studied engineering and physics in the 1870s without receiving a degree. He then gaining practical experience in the early 1880s working in telephony and at Continental Edison in the new electric power industry. In 1884 he emigrated to the United States, where he became a naturalized citizen. He worked for a short time at the Edison Machine Works in New York City before he struck out on his own. With the help of partners to finance and market his ideas, Tesla set up laboratories and companies in New York to develop a range of electrical and mechanical devices. His AC induction motor and related polyphase AC patents, licensed by Westinghouse Electric in 1888, earned him a considerable amount of money and became the cornerstone of the polyphase system which that company eventually marketed.\\n',\n",
       " 'Attempting to develop inventions he could patent and market, Tesla conducted a range of experiments with mechanical oscillators/generators, electrical discharge tubes, and early X-ray imaging. He also built a wirelessly controlled boat, one of the first ever exhibited. Tesla became well known as an inventor and demonstrated his achievements to celebrities and wealthy patrons at his lab, and was noted for his showmanship at public lectures. Throughout the 1890s, Tesla pursued his ideas for wireless lighting and worldwide wireless electric power distribution in his high-voltage, high-frequency power experiments in New York and Colorado Springs. In 1893, he made pronouncements on the possibility of wireless communication with his devices. Tesla tried to put these ideas to practical use in his unfinished Wardenclyffe Tower project, an intercontinental wireless communication and power transmitter, but ran out of funding before he could complete it.\\n',\n",
       " \"After Wardenclyffe, Tesla experimented with a series of inventions in the 1910s and 1920s with varying degrees of success. Having spent most of his money, Tesla lived in a series of New York hotels, leaving behind unpaid bills. He died in New York City in January 1943.[8] Tesla's work fell into relative obscurity following his death, until 1960, when the General Conference on Weights and Measures named the International System of Units (SI) measurement of magnetic flux density the tesla in his honor. There has been a resurgence in popular interest in Tesla since the 1990s.[9]\\n\",\n",
       " 'Nikola Tesla was born an ethnic Serb in the village of Smiljan, within the Military Frontier, in the Austrian Empire (present day Croatia), on 10 July [O.S. 28 June] 1856.[11][12] His father, Milutin Tesla (1819–1879),[13] was a priest of the Eastern Orthodox Church.[14][15][16][17]\\n',\n",
       " \"Tesla's mother, Đuka Mandić (1822–1892), whose father was also an Eastern Orthodox Church priest,[18] had a talent for making home craft tools and mechanical appliances and the ability to memorize Serbian epic poems. Đuka had never received a formal education. Tesla credited his eidetic memory and creative abilities to his mother's genetics and influence.[19][20] Tesla's ancestors were from western Serbia, near Montenegro.[21]\\n\",\n",
       " \"Tesla was the fourth of five children. He had three sisters, Milka, Angelina, and Marica, and an older brother named Dane, who was killed in a horse riding accident when Tesla was aged five.[22] In 1861, Tesla attended primary school in Smiljan where he studied German, arithmetic, and religion. In 1862, the Tesla family moved to the nearby Gospić, where Tesla's father worked as parish priest. Nikola completed primary school, followed by middle school. In 1870, Tesla moved to Karlovac[23][better\\xa0source\\xa0needed] to attend high school at the Higher Real Gymnasium where the classes were held in German, as it was usual throughout schools within the Austro-Hungarian Military Frontier.[24][25]\\n\",\n",
       " 'Tesla later wrote that he became interested in demonstrations of electricity by his physics professor.[26] Tesla noted that these demonstrations of this \"mysterious phenomena\" made him want \"to know more of this wonderful force\".[27] Tesla was able to perform integral calculus in his head, which prompted his teachers to believe that he was cheating.[28] He finished a four-year term in three years, graduating in 1873.[29]\\n',\n",
       " \"After graduating Tesla returned to Smiljan but soon contracted cholera, was bedridden for nine months and was near death multiple times. In a moment of despair, Tesla's father (who had originally wanted him to enter the priesthood),[30] promised to send him to the best engineering school if he recovered from the illness.[23][better\\xa0source\\xa0needed]\\n\",\n",
       " \"The next year Tesla evaded conscription into the Austro-Hungarian Army in Smiljan[31] by running away southeast of Lika to Tomingaj, near Gračac. There he explored the mountains wearing hunter's garb. Tesla said that this contact with nature made him stronger, both physically and mentally. He read many books while in Tomingaj and later said that Mark Twain's works had helped him to miraculously recover from his earlier illness.[23][better\\xa0source\\xa0needed]\\n\",\n",
       " 'He enrolled at the Imperial-Royal Technical College in Graz in 1875 on a Military Frontier scholarship. In his autobiography Tesla said he worked hard and earned the highest grades possible, passed nine exams[23][better\\xa0source\\xa0needed] (nearly twice as many as required[32]) and received a letter of commendation from the dean of the technical faculty to his father, which stated, \"Your son is a star of first rank.\"[32] At Graz, Tesla noted his fascination with the detailed lectures on electricity presented by Professor Jakob Pöschl and described how he made suggestions on improving the design of an electric motor the professor was demonstrating.[23][better\\xa0source\\xa0needed][33] But by his third year he was failing in school and never graduated, leaving Graz in December 1878. One biographer suggests Tesla wasn\\'t studying and may have been expelled for gambling and womanizing.[31]\\n',\n",
       " \"Tesla's family did not hear from him after he left school.[31] There was a rumor amongst his classmates that he had drowned in the nearby river Mur[34] but in January one of them ran into Tesla in the town of Maribor and reported that encounter to Tesla's family.[35] It turned out Tesla had been working there as a draftsman for 60 florins per month.[31][36] In March 1879, Milutin finally located his son and tried to convince him to return home and take up his education in Prague.[35] Tesla returned to Gospić later that month when he was deported for not having a residence permit.[35] Tesla's father died the next month, on 17 April 1879, at the age of 60 after an unspecified illness.[35] During the rest of the year Tesla taught a large class of students in his old school in Gospić.\\n\",\n",
       " \"In January 1880, two of Tesla's uncles put together enough money to help him leave Gospić for Prague, where he was to study. He arrived too late to enroll at Charles-Ferdinand University; he had never studied Greek, a required subject; and he was illiterate in Czech, another required subject. Tesla did, however, attend lectures in philosophy at the university as an auditor but he did not receive grades for the courses.[37][38]\\n\",\n",
       " 'Tesla moved to Budapest, Hungary, in 1881 to work under Tivadar Puskás at a telegraph company, the Budapest Telephone Exchange. Upon arrival, Tesla realized that the company, then under construction, was not functional, so he worked as a draftsman in the Central Telegraph Office instead. Within a few months, the Budapest Telephone Exchange became functional, and Tesla was allocated the chief electrician position. During his employment, Tesla made many improvements to the Central Station equipment and claimed to have perfected a telephone repeater or amplifier, which was never patented nor publicly described.[23][better\\xa0source\\xa0needed]\\n',\n",
       " 'In 1882, Tivadar Puskás got Tesla another job in Paris with the Continental Edison Company.[39] Tesla began working in what was then a brand new industry, installing indoor incandescent lighting citywide in large scale electric power utility. The company had several subdivisions and Tesla worked at the Société Electrique Edison, the division in the Ivry-sur-Seine suburb of Paris in charge of installing the lighting system. There he gained a great deal of practical experience in electrical engineering. Management took notice of his advanced knowledge in engineering and physics and soon had him designing and building improved versions of generating dynamos and motors.[40] They also sent him on to troubleshoot engineering problems at other Edison utilities being built around France and in Germany.\\n',\n",
       " 'In 1884, Edison manager Charles Batchelor, who had been overseeing the Paris installation, was brought back to the United States to manage the Edison Machine Works, a manufacturing division situated in New York City, and asked that Tesla be brought to the United States as well.[42] In June 1884, Tesla emigrated[43] and began working almost immediately at the Machine Works on Manhattan\\'s Lower East Side, an overcrowded shop with a workforce of several hundred machinists, laborers, managing staff, and 20 \"field engineers\" struggling with the task of building the large electric utility in that city.[44] As in Paris, Tesla was working on troubleshooting installations and improving generators.[45] Historian W. Bernard Carlson notes Tesla may have met company founder Thomas Edison only a couple of times.[44] One of those times was noted in Tesla\\'s autobiography where, after staying up all night repairing the damaged dynamos on the ocean liner SS Oregon, he ran into Batchelor and Edison, who made a quip about their \"Parisian\" being out all night. After Tesla told them he had been up all night fixing the Oregon, Edison commented to Batchelor that \"this is a damned good man\".[41] One of the projects given to Tesla was to develop an arc lamp-based street lighting system.[46][47] Arc lighting was the most popular type of street lighting but it required high voltages and was incompatible with the Edison low-voltage incandescent system, causing the company to lose contracts in some cities. Tesla\\'s designs were never put into production, possibly because of technical improvements in incandescent street lighting or because of an installation deal that Edison made with an arc lighting company.[48]\\n',\n",
       " 'Tesla had been working at the Machine Works for a total of six months when he quit.[44] What event precipitated his leaving is unclear. It may have been over a bonus he did not receive, either for redesigning generators or for the arc lighting system that was shelved.[46] Tesla had previous run-ins with the Edison company over unpaid bonuses he believed he had earned.[49][50] In his autobiography, Tesla stated the manager of the Edison Machine Works offered a $50,000 bonus to design \"twenty-four different types of standard machines\" \"but it turned out to be a practical joke\".[51] Later versions of this story have Thomas Edison himself offering and then reneging on the deal, quipping \"Tesla, you don\\'t understand our American humor\".[52][53] The size of the bonus in either story has been noted as odd since Machine Works manager Batchelor was stingy with pay[54] and the company did not have that amount of cash (equal to $1,628,519 today) on hand.[55][56] Tesla\\'s diary contains just one comment on what happened at the end of his employment, a note he scrawled across the two pages covering 7 December 1884, to 4 January 1885, saying \"Good by to the Edison Machine Works\".[47][57]\\n',\n",
       " \"Soon after leaving the Edison company, Tesla was working on patenting an arc lighting system,[58] possibly the same one he had developed at Edison.[44] In March 1885, he met with patent attorney Lemuel W. Serrell, the same attorney used by Edison, to obtain help with submitting the patents.[58] Serrell introduced Tesla to two businessmen, Robert Lane and Benjamin Vail, who agreed to finance an arc lighting manufacturing and utility company in Tesla's name, the Tesla Electric Light and Manufacturing Company.[59] Tesla worked for the rest of the year obtaining the patents that included an improved DC generator, the first patents issued to Tesla in the US, and building and installing the system in Rahway, New Jersey.[60] Tesla's new system gained notice in the technical press, which commented on its advanced features.\\n\",\n",
       " 'The investors showed little interest in Tesla\\'s ideas for new types of alternating current motors and electrical transmission equipment. After the utility was up and running in 1886, they decided that the manufacturing side of the business was too competitive and opted to simply run an electric utility.[61] They formed a new utility company, abandoning Tesla\\'s company and leaving the inventor penniless.[61] Tesla even lost control of the patents he had generated, since he had assigned them to the company in exchange for stock.[61] He had to work at various electrical repair jobs and as a ditch digger for $2 per day. Later in life Tesla recounted that part of 1886 as a time of hardship, writing \"My high education in various branches of science, mechanics and literature seemed to me like a mockery\".[61][62]\\n',\n",
       " \"In late 1886, Tesla met Alfred S. Brown, a Western Union superintendent, and New York attorney Charles Fletcher Peck.[63] The two men were experienced in setting up companies and promoting inventions and patents for financial gain.[64] Based on Tesla's new ideas for electrical equipment, including a thermo-magnetic motor idea,[65] they agreed to back the inventor financially and handle his patents. Together they formed the Tesla Electric Company in April 1887, with an agreement that profits from generated patents would go 1⁄3 to Tesla, 1⁄3 to Peck and Brown, and 1⁄3 to fund development.[64] They set up a laboratory for Tesla at 89 Liberty Street in Manhattan, where he worked on improving and developing new types of electric motors, generators, and other devices.\\n\",\n",
       " 'In 1887, Tesla developed an induction motor that ran on alternating current (AC), a power system format that was rapidly expanding in Europe and the United States because of its advantages in long-distance, high-voltage transmission. The motor used polyphase current, which generated a rotating magnetic field to turn the motor (a principle that Tesla claimed to have conceived in 1882).[66][67][68] This innovative electric motor, patented in May 1888, was a simple self-starting design that did not need a commutator, thus avoiding sparking and the high maintenance of constantly servicing and replacing mechanical brushes.[69][70]\\n',\n",
       " \"Along with getting the motor patented, Peck and Brown arranged to get the motor publicized, starting with independent testing to verify it was a functional improvement, followed by press releases sent to technical publications for articles to run concurrently with the issue of the patent.[71] Physicist William Arnold Anthony (who tested the motor) and Electrical World magazine editor Thomas Commerford Martin arranged for Tesla to demonstrate his AC motor on 16 May 1888 at the American Institute of Electrical Engineers.[71][72] Engineers working for the Westinghouse Electric & Manufacturing Company reported to George Westinghouse that Tesla had a viable AC motor and related power system—something Westinghouse needed for the alternating current system he was already marketing. Westinghouse looked into getting a patent on a similar commutator-less, rotating magnetic field-based induction motor developed in 1885 and presented in a paper in March 1888 by Italian physicist Galileo Ferraris, but decided that Tesla's patent would probably control the market.[73][74]\\n\",\n",
       " \"In July 1888, Brown and Peck negotiated a licensing deal with George Westinghouse for Tesla's polyphase induction motor and transformer designs for $60,000 in cash and stock and a royalty of $2.50 per AC horsepower produced by each motor. Westinghouse also hired Tesla for one year for the large fee of $2,000 ($65,100 in today's dollars[75]) per month to be a consultant at the Westinghouse Electric & Manufacturing Company's Pittsburgh labs.[76]\\n\",\n",
       " \"During that year, Tesla worked in Pittsburgh, helping to create an alternating current system to power the city's streetcars. He found it a frustrating period because of conflicts with the other Westinghouse engineers over how best to implement AC power. Between them, they settled on a 60-cycle AC system that Tesla proposed (to match the working frequency of Tesla's motor), but they soon found that it would not work for streetcars, since Tesla's induction motor could run only at a constant speed. They ended up using a DC traction motor instead.[77][78]\\n\",\n",
       " 'Tesla\\'s demonstration of his induction motor and Westinghouse\\'s subsequent licensing of the patent, both in 1888, came at the time of extreme competition between electric companies.[79][80] The three big firms, Westinghouse, Edison, and Thomson-Houston Electric Company, were trying to grow in a capital-intensive business while financially undercutting each other. There was even a \"war of currents\" propaganda campaign going on, with Edison Electric claiming their direct current system was better and safer than the Westinghouse alternating current system and Thomson-Houston sometimes siding with Edison.[81][82] Competing in this market meant Westinghouse would not have the cash or engineering resources to develop Tesla\\'s motor and the related polyphase system right away.[83]\\n',\n",
       " 'Two years after signing the Tesla contract, Westinghouse Electric was in trouble. The near collapse of Barings Bank in London triggered the financial panic of 1890, causing investors to call in their loans to Westinghouse Electric.[84] The sudden cash shortage forced the company to refinance its debts. The new lenders demanded that Westinghouse cut back on what looked like excessive spending on acquisition of other companies, research, and patents, including the per motor royalty in the Tesla contract.[85][86] At that point, the Tesla induction motor had been unsuccessful and was stuck in development.[83][84] Westinghouse was paying a $15,000-a-year guaranteed royalty[87] even though operating examples of the motor were rare and polyphase power systems needed to run it was even rarer.[69][84] In early 1891, George Westinghouse explained his financial difficulties to Tesla in stark terms, saying that, if he did not meet the demands of his lenders, he would no longer be in control of Westinghouse Electric and Tesla would have to \"deal with the bankers\" to try to collect future royalties.[88] The advantages of having Westinghouse continue to champion the motor probably seemed obvious to Tesla and he agreed to release the company from the royalty payment clause in the contract.[88][89] Six years later Westinghouse purchased Tesla\\'s patent for a lump sum payment of $216,000 as part of a patent-sharing agreement signed with General Electric (a company created from the 1892 merger of Edison and Thomson-Houston).[90][91][92]\\n',\n",
       " 'The money Tesla made from licensing his AC patents made him independently wealthy and gave him the time and funds to pursue his own interests.[93] In 1889, Tesla moved out of the Liberty Street shop Peck and Brown had rented and for the next dozen years worked out of a series of workshop/laboratory spaces in Manhattan. These included a lab at 175 Grand Street (1889–1892), the fourth floor of 33–35 South Fifth Avenue (1892–1895), and sixth and seventh floors of 46 & 48 East Houston Street (1895–1902).[94][95] Tesla and his hired staff conducted some of his most significant work in these workshops.\\n',\n",
       " 'In the summer of 1889, Tesla traveled to the 1889 Exposition Universelle in Paris and learned of Heinrich Hertz\\'s 1886–1888 experiments that proved the existence of electromagnetic radiation, including radio waves.[96] Tesla found this new discovery \"refreshing\" and decided to explore it more fully.[citation needed] In repeating and then expanding on these experiments Tesla tried powering a Ruhmkorff coil with a high speed alternator he had been developing as part of an improved arc lighting system but found that the high-frequency current overheated the iron core and melted the insulation between the primary and secondary windings in the coil. To fix this problem Tesla came up with his \"oscillating transformer\", with an air gap instead of insulating material between the primary and secondary windings and an iron core that could be moved to different positions in or out of the coil.[97] Later called the Tesla coil, it would be used to produce high-voltage, low-current, high frequency alternating-current electricity.[98] He would use this resonant transformer circuit in his later wireless power work.[99][100]\\n',\n",
       " 'On 30 July 1891, aged 35, Tesla became a naturalized citizen of the United States.[101][102] In the same year, he patented his Tesla coil.[103]\\n',\n",
       " 'After 1890, Tesla experimented with transmitting power by inductive and capacitive coupling using high AC voltages generated with his Tesla coil.[104] He attempted to develop a wireless lighting system based on near-field inductive and capacitive coupling and conducted a series of public demonstrations where he lit Geissler tubes and even incandescent light bulbs from across a stage.[105] He spent most of the decade working on variations of this new form of lighting with the help of various investors but none of the ventures succeeded in making a commercial product out of his findings.[106]\\n',\n",
       " 'In 1893 at St. Louis, Missouri, the Franklin Institute in Philadelphia, Pennsylvania and the National Electric Light Association, Tesla told onlookers that he was sure a system like his could eventually conduct \"intelligible signals or perhaps even power to any distance without the use of wires\" by conducting it through the Earth.[107][108]\\n',\n",
       " 'Tesla served as a vice-president of the American Institute of Electrical Engineers from 1892 to 1894, the forerunner of the modern-day IEEE (along with the Institute of Radio Engineers).[109]\\n',\n",
       " 'By the beginning of 1893, Westinghouse engineer Charles F. Scott and then Benjamin G. Lamme had made progress on an efficient version of Tesla\\'s induction motor. Lamme found a way to make the polyphase system it would need compatible with older single-phase AC and DC systems by developing a rotary converter.[110] Westinghouse Electric now had a way to provide electricity to all potential customers and started branding their polyphase AC system as the \"Tesla Polyphase System\". They believed that Tesla\\'s patents gave them patent priority over other polyphase AC systems.[111]\\n',\n",
       " 'Westinghouse Electric asked Tesla to participate in the 1893 World\\'s Columbian Exposition in Chicago where the company had a large space in the \"Electricity Building\" devoted to electrical exhibits. Westinghouse Electric won the bid to light the Exposition with alternating current and it was a key event in the history of AC power, as the company demonstrated to the American public the safety, reliability, and efficiency of an alternating current system that was polyphase and could also supply the other AC and DC exhibits at the fair.[112][113][114]\\n',\n",
       " \"A special exhibit space was set up to display various forms and models of Tesla's induction motor. The rotating magnetic field that drove them was explained through a series of demonstrations including an Egg of Columbus that used the two-phase coil found in an induction motor to spin a copper egg making it stand on end.[115]\\n\",\n",
       " 'Tesla visited the fair for a week during its six-month run to attend the International Electrical Congress and put on a series of demonstrations at the Westinghouse exhibit.[116][117] A specially darkened room had been set up where Tesla showed his wireless lighting system, using a demonstration he had previously performed throughout America and Europe;[118] these included using high-voltage, high-frequency alternating current to light wireless gas-discharge lamps.[119]\\n',\n",
       " 'An observer noted:\\n',\n",
       " 'Within the room were suspended two hard-rubber plates covered with tin foil. These were about fifteen feet apart and served as terminals of the wires leading from the transformers. When the current was turned on, the lamps or tubes, which had no wires connected to them, but lay on a table between the suspended plates, or which might be held in the hand in almost any part of the room, were made luminous. These were the same experiments and the same apparatus shown by Tesla in London about two years previous, \"where they produced so much wonder and astonishment\".[120]',\n",
       " 'During his presentation at the International Electrical Congress in the Columbian Exposition Agriculture Hall, Tesla introduced his steam powered reciprocating electricity generator that he patented that year, something he thought was a better way to generate alternating current.[121] Steam was forced into the oscillator and rushed out through a series of ports, pushing a piston up and down that was attached to an armature. The magnetic armature vibrated up and down at high speed, producing an alternating magnetic field. This induced alternating electric current in the wire coils located adjacent. It did away with the complicated parts of a steam engine/generator, but never caught on as a feasible engineering solution to generate electricity.[122][123]\\n',\n",
       " \"In 1893, Edward Dean Adams, who headed the Niagara Falls Cataract Construction Company, sought Tesla's opinion on what system would be best to transmit power generated at the falls. Over several years, there had been a series of proposals and open competitions on how best to do it. Among the systems proposed by several US and European companies were two-phase and three-phase AC, high-voltage DC, and compressed air. Adams asked Tesla for information about the current state of all the competing systems. Tesla advised Adams that a two-phased system would be the most reliable and that there was a Westinghouse system to light incandescent bulbs using two-phase alternating current. The company awarded a contract to Westinghouse Electric for building a two-phase AC generating system at the Niagara Falls, based on Tesla's advice and Westinghouse's demonstration at the Columbian Exposition. At the same time, a further contract was awarded to General Electric to build the AC distribution system.[124]\\n\",\n",
       " \"In 1895, Edward Dean Adams, impressed with what he saw when he toured Tesla's lab, agreed to help found the Nikola Tesla Company, set up to fund, develop, and market a variety of previous Tesla patents and inventions as well as new ones. Alfred Brown signed on, bringing along patents developed under Peck and Brown. The board was filled out with William Birch Rankine and Charles F. Coaney.[125] It found few investors since the mid-1890s were a tough time financially, and the wireless lighting and oscillators patents it was set up to market never panned out. The company handled Tesla's patents for decades to come.\\n\",\n",
       " 'In the early morning hours of 13 March 1895, the South Fifth Avenue building that housed Tesla\\'s lab caught fire. It started in the basement of the building and was so intense Tesla\\'s 4th-floor lab burned and collapsed into the second floor. The fire not only set back Tesla\\'s ongoing projects, but it also destroyed a collection of early notes and research material, models, and demonstration pieces, including many that had been exhibited at the 1893 Worlds Colombian Exposition. Tesla told The New York Times \"I am in too much grief to talk. What can I say?\".[126]  After the fire Tesla moved to 46 & 48 East Houston Street and rebuilt his lab on the 6th and 7th floors.\\n',\n",
       " 'Starting in 1894, Tesla began investigating what he referred to as radiant energy of \"invisible\" kinds after he had noticed damaged film in his laboratory in previous experiments[127] (later identified as \"Roentgen rays\" or \"X-rays\"). His early experiments were with Crookes tubes, a cold cathode electrical discharge tube. Tesla may have inadvertently captured an X-ray image—predating, by a few weeks, Wilhelm Röntgen\\'s December 1895 announcement of the discovery of X-rays—when he tried to photograph Mark Twain illuminated by a Geissler tube, an earlier type of gas discharge tube. The only thing captured in the image was the metal locking screw on the camera lens.[128]\\n',\n",
       " 'In March 1896, after hearing of Röntgen\\'s discovery of X-ray and X-ray imaging (radiography),[129] Tesla proceeded to do his own experiments in X-ray imaging, developing a high-energy single-terminal vacuum tube of his own design that had no target electrode and that worked from the output of the Tesla coil (the modern term for the phenomenon produced by this device is bremsstrahlung or braking radiation). In his research, Tesla devised several experimental setups to produce X-rays. Tesla held that, with his circuits, the \"instrument will\\xa0... enable one to generate Roentgen rays of much greater power than obtainable with ordinary apparatus\".[130]\\n',\n",
       " 'Tesla noted the hazards of working with his circuit and single-node X-ray-producing devices. In his many notes on the early investigation of this phenomenon, he attributed the skin damage to various causes. He believed early on that damage to the skin was not caused by the Roentgen rays, but by the ozone generated in contact with the skin, and to a lesser extent, by nitrous acid. Tesla incorrectly believed that X-rays were longitudinal waves, such as those produced in waves in plasmas. These plasma waves can occur in force-free magnetic fields.[131][132]\\n',\n",
       " 'On 11 July 1934, the New York Herald Tribune published an article on Tesla, in which he recalled an event that occasionally took place while experimenting with his single-electrode vacuum tubes. A minute particle would break off the cathode, pass out of the tube, and physically strike him:[133]\\n',\n",
       " 'Tesla said he could feel a sharp stinging pain where it entered his body, and again at the place where it passed out. In comparing these particles with the bits of metal projected by his \"electric gun\", Tesla said, \"The particles in the beam of force\\xa0... will travel much faster than such particles\\xa0... and they will travel in concentrations\".\\n',\n",
       " 'In 1898, Tesla demonstrated a boat that used a coherer-based radio control—which he dubbed \"telautomaton\"—to the public during an electrical exhibition at Madison Square Garden.[135] Tesla tried to sell his idea to the US military as a type of radio-controlled torpedo, but they showed little interest.[136] Remote radio control remained a novelty until World War I and afterward, when a number of countries used it in military programs.[137] Tesla took the opportunity to further demonstrate \"Teleautomatics\" in an address to a meeting of the Commercial Club in Chicago, while he was travelling to Colorado Springs, on 13 May 1899.\\n',\n",
       " 'From the 1890s through 1906, Tesla spent a great deal of his time and fortune on a series of projects trying to develop the transmission of electrical power without wires. It was an expansion of his idea of using coils to transmit power that he had been demonstrating in wireless lighting. He saw this as not only a way to transmit large amounts of power around the world but also, as he had pointed out in his earlier lectures, a way to transmit worldwide communications.\\n',\n",
       " 'At the time Tesla was formulating his ideas, there was no feasible way to wirelessly transmit communication signals over long distances, let alone large amounts of power. Tesla had studied radio waves early on, and came to the conclusion that part of the existing study on them, by Hertz, was incorrect.[138][139][140] Also, this new form of radiation was widely considered at the time to be a short-distance phenomenon that seemed to die out in less than a mile.[141] Tesla noted that, even if theories on radio waves were true, they were totally worthless for his intended purposes since this form of \"invisible light\" would diminish over a distance just like any other radiation and would travel in straight lines right out into space, becoming \"hopelessly lost\".[142]\\n',\n",
       " \"By the mid-1890s, Tesla was working on the idea that he might be able to conduct electricity long distance through the Earth or the atmosphere, and began working on experiments to test this idea including setting up a large resonance transformer magnifying transmitter in his East Houston Street lab.[143][144][145] Seeming to borrow from a common idea at the time that the Earth's atmosphere was conductive,[146][147] he proposed a system composed of balloons suspending, transmitting, and receiving, electrodes in the air above 30,000 feet (9,100\\xa0m) in altitude, where he thought the lower pressure would allow him to send high voltages (millions of volts) long distances.\\n\",\n",
       " \"To further study the conductive nature of low-pressure air, Tesla set up an experimental station at high altitude in Colorado Springs during 1899.[148][149][150][151]  There he could safely operate much larger coils than in the cramped confines of his New York lab, and an associate had made an arrangement for the El Paso Power Company to supply alternating current free of charge.[151] To fund his experiments, he convinced John Jacob Astor IV to invest $100,000 ($3,517,600 in today's dollars[75]) to become a majority shareholder in the Nikola Tesla Company. Astor thought he was primarily investing in the new wireless lighting system. Instead, Tesla used the money to fund his Colorado Springs experiments.[152] Upon his arrival, he told reporters that he planned to conduct wireless telegraphy experiments, transmitting signals from Pikes Peak to Paris.[153]\\n\",\n",
       " 'There, he conducted experiments with a large coil operating in the megavolts range, producing artificial lightning (and thunder) consisting of millions of volts and discharges of up to 135 feet (41\\xa0m) in length,[155] and, at one point, inadvertently burned out the generator in El Paso, causing a power outage.[156] The observations he made of the electronic noise of lightning strikes led him to (incorrectly) conclude[157][158] that he could use the entire globe of the Earth to conduct electrical energy.\\n',\n",
       " 'During his time at his laboratory, Tesla observed unusual signals from his receiver which he speculated to be communications from another planet. He mentioned them in a letter to a reporter in December 1899[159] and to the Red Cross Society in December 1900.[160][161] Reporters treated it as a sensational story and jumped to the conclusion Tesla was hearing signals from Mars.[160] He expanded on the signals he heard in a 9 February 1901 Collier\\'s Weekly article entitled \"Talking With Planets\", where he said it had not been immediately apparent to him that he was hearing \"intelligently controlled signals\" and that the signals could have come from Mars, Venus, or other planets.[161] It has been hypothesized that he may have intercepted Guglielmo Marconi\\'s European experiments in July 1899—Marconi may have transmitted the letter S (dot/dot/dot) in a naval demonstration, the same three impulses that Tesla hinted at hearing in Colorado[161]—or signals from another experimenter in wireless transmission.[162]\\n',\n",
       " 'Tesla had an agreement with the editor of The Century Magazine to produce an article on his findings. The magazine sent a photographer to Colorado to photograph the work being done there. The article, titled \"The Problem of Increasing Human Energy\", appeared in the June 1900 edition of the magazine. He explained the superiority of the wireless system he envisioned but the article was more of a lengthy philosophical treatise than an understandable scientific description of his work,[163] illustrated with what were to become iconic images of Tesla and his Colorado Springs experiments.\\n',\n",
       " \"Tesla made the rounds in New York trying to find investors for what he thought would be a viable system of wireless transmission, wining and dining them at the Waldorf-Astoria's Palm Garden (the hotel where he was living at the time), The Players Club, and Delmonico's.[164] In March 1901, he obtained $150,000 ($5,276,400 in today's dollars[75]) from J. P. Morgan in return for a 51% share of any generated wireless patents, and began planning the Wardenclyffe Tower facility to be built in Shoreham, New York, 100 miles (161\\xa0km) east of the city on the North Shore of Long Island.[165]\\n\",\n",
       " 'By July 1901, Tesla had expanded his plans to build a more powerful transmitter to leap ahead of Marconi\\'s radio-based system, which Tesla thought was a copy of his own.[160] He approached Morgan to ask for more money to build the larger system, but Morgan refused to supply any further funds.[166] In December 1901, Marconi successfully transmitted the letter S from England to Newfoundland, defeating Tesla in the race to be first to complete such a transmission. A month after Marconi\\'s success, Tesla tried to get Morgan to back an even larger plan to transmit messages and power by controlling \"vibrations throughout the globe\".[160] Over the next five years, Tesla wrote more than 50 letters to Morgan, pleading for and demanding additional funding to complete the construction of Wardenclyffe. Tesla continued the project for another nine months into 1902. The tower was erected to its full height of 187 feet (57\\xa0m).[162] In June 1902, Tesla moved his lab operations from Houston Street to Wardenclyffe.[165]\\n',\n",
       " \"Investors on Wall Street were putting their money into Marconi's system, and some in the press began turning against Tesla's project, claiming it was a hoax.[167] The project came to a halt in 1905, and in 1906, the financial problems and other events may have led to what Tesla biographer Marc J. Seifer suspects was a nervous breakdown on Tesla's part.[168] Tesla mortgaged the Wardenclyffe property to cover his debts at the Waldorf-Astoria, which eventually amounted to $20,000 ($584,300 in today's dollars[75]).[169] He lost the property in foreclosure in 1915, and in 1917 the Tower was demolished by the new owner to make the land a more viable real estate asset.\\n\",\n",
       " 'After Wardenclyffe closed, Tesla continued to write to Morgan; after \"the great man\" died, Tesla wrote to Morgan\\'s son Jack, trying to get further funding for the project. In 1906, Tesla opened offices at 165 Broadway in Manhattan, trying to raise further funds by developing and marketing his patents. He went on to have offices at the Metropolitan Life Tower from 1910 to 1914; rented for a few months at the Woolworth Building, moving out because he could not afford the rent; and then to office space at 8 West 40th Street from 1915 to 1925. After moving to 8 West 40th Street, he was effectively bankrupt. Most of his patents had run out and he was having trouble with the new inventions he was trying to develop.[170]\\n',\n",
       " 'On his 50th birthday, in 1906, Tesla demonstrated a 200 horsepower (150 kilowatts) 16,000\\xa0rpm bladeless turbine. During 1910–1911, at the Waterside Power Station in New York, several of his bladeless turbine engines were tested at 100–5,000\\xa0hp.[171] Tesla worked with several companies including from 1919 to 1922 in Milwaukee, for Allis-Chalmers.[172][173] He spent most of his time trying to perfect the Tesla turbine with Hans Dahlstrand, the head engineer at the company, but engineering difficulties meant it was never made into a practical device.[174] Tesla did license the idea to a precision instrument company and it found use in the form of luxury car speedometers and other instruments.[175]\\n',\n",
       " 'When World War I broke out, the British cut the transatlantic telegraph cable linking the US to Germany in order to control the flow of information between the two countries. They also tried to shut off German wireless communication to and from the US by having the US Marconi Company sue the German radio company Telefunken for patent infringement.[176] Telefunken brought in the physicists Jonathan Zenneck and Karl Ferdinand Braun for their defense, and hired Tesla as a witness for two years for $1,000 a month. The case stalled and then went moot when the US entered the war against Germany in 1917.[176][177]\\n',\n",
       " \"In 1915, Tesla attempted to sue the Marconi Company for infringement of his wireless tuning patents. Marconi's initial radio patent had been awarded in the US in 1897, but his 1900 patent submission covering improvements to radio transmission had been rejected several times, before it was finally approved in 1904, on the grounds that it infringed on other existing patents including two 1897 Tesla wireless power tuning patents.[139][178][179] Tesla's 1915 case went nowhere,[180] but in a related case, where the Marconi Company tried to sue the US government over WWI patent infringements, a Supreme Court of the United States 1943 decision restored the prior patents of Oliver Lodge, John Stone, and Tesla.[181] The court declared that their decision had no bearing on Marconi's claim as the first to achieve radio transmission, just that since Marconi's claim to certain patented improvements were questionable, the company could not claim infringement on those same patents.[139][182]\\n\",\n",
       " 'On 6 November 1915, a Reuters news agency report from London had the 1915 Nobel Prize in Physics awarded to Thomas Edison and Nikola Tesla; however, on 15 November, a Reuters story from Stockholm stated the prize that year was being awarded to William Henry Bragg and Lawrence Bragg \"for their services in the analysis of crystal structure by means of X-rays\".[183][184][185] There were unsubstantiated rumors at the time that either Tesla or Edison had refused the prize.[183] The Nobel Foundation said, \"Any rumor that a person has not been given a Nobel Prize because he has made known his intention to refuse the reward is ridiculous\"; a recipient could decline a Nobel Prize only after he is announced a winner.[183]\\n',\n",
       " \"There have been subsequent claims by Tesla biographers that Edison and Tesla were the original recipients and that neither was given the award because of their animosity toward each other; that each sought to minimize the other's achievements and right to win the award; that both refused ever to accept the award if the other received it first; that both rejected any possibility of sharing it; and even that a wealthy Edison refused it to keep Tesla from getting the $20,000 prize money.[20][183]\\n\",\n",
       " 'In the years after these rumors, neither Tesla nor Edison won a Nobel prize (although Edison received one of 38 possible bids in 1915 and Tesla received one of 38 possible bids in 1937).[186]\\n',\n",
       " 'Tesla won numerous medals and awards over this time. They include:\\n',\n",
       " 'Tesla attempted to market several devices based on the production of ozone. These included his 1900 Tesla Ozone Company selling an 1896 patented device based on his Tesla coil, used to bubble ozone through different types of oils to make a therapeutic gel.[192] He also tried to develop a variation of this a few years later as a room sanitizer for hospitals.[193]\\n',\n",
       " 'Tesla theorized that the application of electricity to the brain enhanced intelligence. In 1912, he crafted \"a plan to make dull students bright by saturating them unconsciously with electricity,\" wiring the walls of a schoolroom and, \"saturating [the schoolroom] with infinitesimal electric waves vibrating at high frequency. The whole room will thus, Mr. Tesla claims, be converted into a health-giving and stimulating electromagnetic field or \\'bath.\\'\"[194] The plan was, at least provisionally, approved by then superintendent of New York City schools, William H. Maxwell.[194]\\n',\n",
       " 'Before World War I, Tesla sought overseas investors. After the war started, Tesla lost the funding he was receiving from his patents in European countries.\\n',\n",
       " 'In the August 1917 edition of the magazine Electrical Experimenter, Tesla postulated that electricity could be used to locate submarines via using the reflection of an \"electric ray\" of \"tremendous frequency,\" with the signal being viewed on a fluorescent screen (a system that has been noted to have a superficial resemblance to modern radar).[195] Tesla was incorrect in his assumption that high-frequency radio waves would penetrate water.[196] Émile Girardeau, who helped develop France\\'s first radar system in the 1930s, noted in 1953 that Tesla\\'s general speculation that a very strong high-frequency signal would be needed was correct. Girardeau said, \"(Tesla) was prophesying or dreaming, since he had at his disposal no means of carrying them out, but one must add that if he was dreaming, at least he was dreaming correctly\".[197]\\n',\n",
       " 'In 1928, Tesla received patent, U.S. Patent 1,655,114, for a biplane design capable of vertical take-off and landing (VTOL), which \"gradually tilted through manipulation of the elevator devices\" in flight until it was flying like a conventional plane.[198] This impractical design was something Tesla thought would sell for less than $1,000.[199][200]\\n',\n",
       " 'Tesla had a further office at 350 Madison Ave[201] but by 1928 he no longer had a laboratory or funding.[202]\\n',\n",
       " 'Tesla lived at the Waldorf Astoria in New York City from 1900 and ran up a large bill.[203] He moved to the St. Regis Hotel in 1922 and followed a pattern from then on of moving to a different hotel every few years and leaving unpaid bills behind.[204][205]\\n',\n",
       " 'Tesla walked to the park every day to feed the pigeons. He began feeding them at the window of his hotel room and nursed injured birds back to health.[205][206][207] He said that he had been visited by a certain injured white pigeon daily. He spent over $2,000 (equivalent to $34,970 in 2022) to care for the bird, including a device he built to support her comfortably while her broken wing and leg healed.[31] Tesla stated:\\n',\n",
       " 'I have been feeding pigeons, thousands of them for years. But there was one, a beautiful bird, pure white with light grey tips on its wings; that one was different. It was a female. I had only to wish and call her and she would come flying to me. I loved that pigeon as a man loves a woman, and she loved me. As long as I had her, there was a purpose to my life.[208]',\n",
       " \"Tesla's unpaid bills, as well as complaints about the mess made by pigeons, led to his eviction from St. Regis in 1923. He was also forced to leave the Hotel Pennsylvania in 1930 and the Hotel Governor Clinton in 1934.[205] At one point he also took rooms at the Hotel Marguery.[citation needed]\\n\",\n",
       " 'Tesla moved to the Hotel New Yorker in 1934. At this time Westinghouse Electric & Manufacturing Company began paying him $125 (equivalent to $2,730 in 2022) per month in addition to paying his rent. Accounts of how this came about vary. Several sources claim that Westinghouse was concerned, or possibly warned, about potential bad publicity arising from the impoverished conditions in which their former star inventor was living.[209][210][211][212] The payment has been described as being couched as a \"consulting fee\" to get around Tesla\\'s aversion to accepting charity. Tesla biographer Marc Seifer described the Westinghouse payments as a type of \"unspecified settlement\".[211] In any case, Westinghouse provided the funds for Tesla for the rest of his life.[citation needed]\\n',\n",
       " 'In 1931, a young journalist whom Tesla befriended, Kenneth M. Swezey, organized a celebration for the inventor\\'s 75th birthday.[213] Tesla received congratulations from figures in science and engineering such as Albert Einstein,[214] and he was also featured on the cover of Time magazine.[215] The cover caption \"All the world\\'s his power house\" noted his contribution to electrical power generation. The party went so well that Tesla made it an annual event, an occasion where he would put out a large spread of food and drink—featuring dishes of his own creation. He invited the press in order to see his inventions and hear stories about his past exploits, views on current events, and sometimes baffling claims.[216][217]\\n',\n",
       " 'At the 1932 party, Tesla claimed he had invented a motor that would run on cosmic rays.[217]\\nIn 1933, at age 77, Tesla told reporters at the event that, after 35 years of work, he was on the verge of producing proof of a new form of energy. He claimed it was a theory of energy that was \"violently opposed\" to Einsteinian physics and could be tapped with an apparatus that would be cheap to run and last 500 years. He also told reporters he was working on a way to transmit individualized private radio wavelengths, working on breakthroughs in metallurgy, and developing a way to photograph the retina to record thought.[218]\\n',\n",
       " 'At the 1934 occasion, Tesla told reporters he had designed a superweapon he claimed would end all war.[219][220] He called it \"teleforce\", but was usually referred to as his death ray.[221] In 1940, the New York Times gave a range for the ray of 250 miles (400\\xa0km), with an expected development cost of US$2\\xa0million (equivalent to $41.78\\xa0million in 2022).[222] Tesla described it as a defensive weapon that would be put up along the border of a country and be used against attacking ground-based infantry or aircraft. Tesla never revealed detailed plans of how the weapon worked during his lifetime but, in 1984, they surfaced at the Nikola Tesla Museum archive in Belgrade.[223] The treatise, The New Art of Projecting Concentrated Non-dispersive Energy through the Natural Media, described an open-ended vacuum tube with a gas jet seal that allows particles to exit, a method of charging slugs of tungsten or mercury to millions of volts, and directing them in streams (through electrostatic repulsion).[217][224] Tesla tried to attract interest of the US War Department,[225] United Kingdom, Soviet Union, and Yugoslavia in the device.[226]\\n',\n",
       " 'In 1935, at his 79th birthday party, Tesla covered many topics. He claimed to have discovered the cosmic ray in 1896 and invented a way to produce direct current by induction, and made many claims about his mechanical oscillator.[227] Describing the device (which he expected would earn him $100 million within two years) he told reporters that a version of his oscillator had caused an earthquake in his 46 East Houston Street lab and neighboring streets in Lower Manhattan in 1898.[227] He went on to tell reporters his oscillator could destroy the Empire State Building with 5 pounds (2.3\\xa0kg) of air pressure.[228] He also proposed using his oscillators to transmit vibrations into the ground. He claimed it would work over any distance and could be used for communication or locating underground mineral deposits, a technique he called \"telegeodynamics\".[133]\\n',\n",
       " 'In 1937, at his Grand Ballroom of Hotel New Yorker event, Tesla received the Order of the White Lion from the Czechoslovak ambassador and a medal from the Yugoslav ambassador. On questions concerning the death ray, Tesla stated: \"But it is not an experiment\\xa0... I have built, demonstrated and used it. Only a little time will pass before I can give it to the world.\"[217]\\n',\n",
       " 'In the fall of 1937 at the age of 81, after midnight one night, Tesla left the Hotel New Yorker to make his regular commute to the cathedral and library to feed the pigeons. While crossing a street a couple of blocks from the hotel, Tesla was struck by a moving taxicab and was thrown to the ground. His back was severely wrenched and three of his ribs were broken in the accident. The full extent of his injuries was never known; Tesla refused to consult a doctor, an almost lifelong custom, and never fully recovered.[32][229]\\n',\n",
       " 'On 7 January 1943, at the age of 86, Tesla died alone in Room 3327 of the Hotel New Yorker. His body was found by maid Alice Monaghan when she entered Tesla\\'s room, ignoring the \"do not disturb\" sign that Tesla had placed on his door two days earlier. Assistant medical examiner H.W. Wembley examined the body and ruled that the cause of death had been coronary thrombosis (a type of heart attack).\\n',\n",
       " \"Two days later the Federal Bureau of Investigation ordered the Alien Property Custodian to seize Tesla's belongings. John G. Trump, a professor at M.I.T. and a well-known electrical engineer serving as a technical aide to the National Defense Research Committee, was called in to analyze the Tesla items. After a three-day investigation, Trump's report concluded that there was nothing which would constitute a hazard in unfriendly hands, stating:\\n\",\n",
       " \"His [Tesla's] thoughts and efforts during at least the past 15 years were primarily of a speculative, philosophical, and somewhat promotional character often concerned with the production and wireless transmission of power; but did not include new, sound, workable principles or methods for realizing such results.[230]\",\n",
       " 'In a box purported to contain a part of Tesla\\'s \"death ray\", Trump found a 45-year-old multidecade resistance box.[231]\\n',\n",
       " 'On 10 January 1943, New York City mayor Fiorello La Guardia read a eulogy written by Slovene-American author Louis Adamic live over the WNYC radio while violin pieces \"Ave Maria\" and \"Tamo daleko\" were played in the background. On 12 January, two thousand people attended a state funeral for Tesla at the Cathedral of St. John the Divine in Manhattan. After the funeral, Tesla\\'s body was taken to the Ferncliff Cemetery in Ardsley, New York, where it was later cremated. The following day, a second service was conducted by prominent priests in the Trinity Chapel (today\\'s Serbian Orthodox Cathedral of Saint Sava) in New York City.\\n',\n",
       " \"In 1952, following pressure from Tesla's nephew, Sava Kosanović, Tesla's entire estate was shipped to Belgrade in 80 trunks marked N.T. In 1957, Kosanović's secretary Charlotte Muzar transported Tesla's ashes from the United States to Belgrade. The ashes are displayed in a gold-plated sphere on a marble pedestal in the Nikola Tesla Museum.[232]\\n\",\n",
       " \"Tesla obtained around 300 patents worldwide for his inventions.[233] Some of Tesla's patents are not accounted for, and various sources have discovered some that have lain hidden in patent archives. There are a minimum of 278 known patents[233] issued to Tesla in 26 countries. Many of Tesla's patents were in the United States, Britain, and Canada, but many other patents were approved in countries around the globe.[234] Many inventions developed by Tesla were not put into patent protection.\\n\",\n",
       " 'Tesla was 6\\xa0feet 2\\xa0inches (1.88\\xa0m) tall and weighed 142 pounds (64\\xa0kg), with almost no weight variance from 1888 to about 1926. His appearance was described by newspaper editor Arthur Brisbane as \"almost the tallest, almost the thinnest and certainly the most serious man who goes to Delmonico\\'s regularly\".[235][236] He was an elegant, stylish figure in New York City, meticulous in his grooming, clothing, and regimented in his daily activities, an appearance he maintained so as to further his business relationships.[237] He was also described as having light eyes, \"very big hands\", and \"remarkably big\" thumbs.[235]\\n',\n",
       " 'Tesla read many works, memorizing complete books, and supposedly possessed a photographic memory.[238] He was a polyglot, speaking eight languages: Serbo-Croatian, Czech, English, French, German, Hungarian, Italian, and Latin.[239] Tesla related in his autobiography that he experienced detailed moments of inspiration. During his early life, Tesla was repeatedly stricken with illness. Blinding flashes of light would appear before his eyes, often accompanied by visions.[238] Often, the visions were linked to a word or idea he might have come across; at other times they provided the solution to a particular problem he had encountered. Just by hearing the name of an item, he could envision it in realistic detail.[238] Tesla visualized an invention in his mind with extreme precision, including all dimensions, before moving to the construction stage, a technique sometimes known as picture thinking. He typically did not make drawings by hand but worked from memory. Beginning in his childhood, Tesla had frequent flashbacks to events that had happened previously in his life.[238] He noted in his autobiography that this affliction had developed his powers of observation and enabled him to discover a \"truth of great importance\", namely that every thought he conceived was suggested by an external impression.[51] Tesla further wrote that \"deficient observation was merely a form of ignorance and responsible for the many morbid notions and foolish ideas prevailing.\" \\n',\n",
       " 'Tesla was a lifelong bachelor, who had once explained that his chastity was very helpful to his scientific abilities.[238] He once said in earlier years that he felt he could never be worthy enough for a woman, considering women superior in every way. His opinion had started to sway in later years when he felt that women were trying to outdo men and make themselves more dominant. This \"new woman\" was met with much indignation from Tesla, who felt that women were losing their femininity by trying to be in power. In an interview with the Galveston Daily News on 10 August 1924 he stated, \"In place of the soft-voiced, a gentlewoman of my reverent worship, has come the woman who thinks that her chief success in life lies in making herself as much as possible like man—in dress, voice and actions, in sports and achievements of every kind\\xa0... The tendency of women to push aside man, supplanting the old spirit of cooperation with him in all the affairs of life, is very disappointing to me.\"[citation needed] Although he told a reporter in later years that he sometimes felt that by not marrying, he had made too great a sacrifice to his work,[31] Tesla chose to never pursue or engage in any known relationships, instead finding all the stimulation he needed in his work.\\n',\n",
       " 'Tesla was asocial and prone to seclude himself with his work.[135][240][241] However, when he did engage in social life, many people spoke very positively and admiringly of Tesla. Robert Underwood Johnson described him as attaining a \"distinguished sweetness, sincerity, modesty, refinement, generosity, and force\".[31] His secretary, Dorothy Skerrit, wrote: \"his genial smile and nobility of bearing always denoted the gentlemanly characteristics that were so ingrained in his soul\".[237] Tesla\\'s friend, Julian Hawthorne, wrote, \"seldom did one meet a scientist or engineer who was also a poet, a philosopher, an appreciator of fine music, a linguist, and a connoisseur of food and drink\".[242]\\n',\n",
       " 'Tesla was a good friend of Francis Marion Crawford, Robert Underwood Johnson,[243] Stanford White,[244] Fritz Lowenstein, George Scherff, and Kenneth Swezey.[245][246][247] In middle age, Tesla became a close friend of Mark Twain; they spent a lot of time together in his lab and elsewhere.[243] Twain notably described Tesla\\'s induction motor invention as \"the most valuable patent since the telephone\".[248] At a party thrown by actress Sarah Bernhardt in 1896, Tesla met Indian Hindu monk Swami Vivekananda. Vivekananda later wrote that Tesla said he could demonstrate mathematically the relationship between matter and energy, something Vivekananda hoped would give a scientific foundation to Vedantic cosmology.[249][250] The meeting with Swami Vivekananda stimulated Tesla\\'s interest in Eastern Science, which led to Tesla studying Hindu and Vedic philosophy for a number of years.[251] Tesla later wrote an article titled \"Man\\'s Greatest Achievement\" using Sanskrit terms akasha and prana to describe the relationship between matter and energy.[252][253] In the late 1920s, Tesla befriended George Sylvester Viereck, a poet, writer, mystic, and later, a Nazi propagandist. Tesla occasionally attended dinner parties held by Viereck and his wife.[254][255]\\n',\n",
       " \"Tesla could be harsh at times and openly expressed disgust for overweight people, such as when he fired a secretary because of her weight.[256] He was quick to criticize clothing; on several occasions, Tesla directed a subordinate to go home and change her dress.[238] When Thomas Edison died, in 1931, Tesla contributed the only negative opinion to The New York Times, buried in an extensive coverage of Edison's life:\\n\",\n",
       " \"He had no hobby, cared for no sort of amusement of any kind and lived in utter disregard of the most elementary rules of hygiene\\xa0... His method was inefficient in the extreme, for an immense ground had to be covered to get anything at all unless blind chance intervened and, at first, I was almost a sorry witness of his doings, knowing that just a little theory and calculation would have saved him 90 percent of the labor. But he had a veritable contempt for book learning and mathematical knowledge, trusting himself entirely to his inventor's instinct and practical American sense.[257]\",\n",
       " 'Tesla claimed never to sleep more than two hours per night.[258] However, he did admit to \"dozing\" from time to time \"to recharge his batteries\".[259] During his second year of study at Graz, Tesla developed a passionate proficiency for billiards, chess, and card-playing, sometimes spending more than 48 hours in a stretch at a games table.[260] On one occasion at his laboratory, Tesla worked for a period of 84 hours without rest.[261] Kenneth Swezey, a journalist whom Tesla had befriended, confirmed that Tesla rarely slept. Swezey recalled one morning when Tesla called him at 3 a.m.: \"I was sleeping in my room like one dead\\xa0... Suddenly, the telephone ring awakened me\\xa0... [Tesla] spoke animatedly, with pauses, [as he]\\xa0... work[ed] out a problem, comparing one theory to another, commenting; and when he felt he had arrived at the solution, he suddenly closed the telephone.\"[259]\\n',\n",
       " 'Tesla worked every day from 9:00\\xa0a.m. until 6:00\\xa0p.m. or later, with dinner at exactly 8:10\\xa0p.m., at Delmonico\\'s restaurant and later the Waldorf-Astoria Hotel. Tesla then telephoned his dinner order to the headwaiter, who also could be the only one to serve him. \"The meal was required to be ready at eight o\\'clock\\xa0... He dined alone, except on the rare occasions when he would give a dinner to a group to meet his social obligations. Tesla then resumed his work, often until 3:00\\xa0a.m.\"[262]\\n',\n",
       " 'For exercise, Tesla walked between 8 and 10 miles (13 and 16\\xa0km) per day. He curled his toes one hundred times for each foot every night, saying that it stimulated his brain cells.[259]\\n',\n",
       " 'In an interview with newspaper editor Arthur Brisbane, Tesla said that he did not believe in telepathy, stating, \"Suppose I made up my mind to murder you,\" he said, \"In a second you would know it. Now, isn\\'t that wonderful? By what process does the mind get at all this?\" In the same interview, Tesla said that he believed that all fundamental laws could be reduced to one.[235]\\n',\n",
       " 'Tesla became a vegetarian in his later years, living on only milk, bread, honey, and vegetable juices.[220][263]\\n',\n",
       " 'Tesla disagreed with the theory of atoms being composed of smaller subatomic particles, stating there was no such thing as an electron creating an electric charge. He believed that if electrons existed at all, they were some fourth state of matter or \"sub-atom\" that could exist only in an experimental vacuum and that they had nothing to do with electricity.[264][265] Tesla believed that atoms are immutable—they could not change state or be split in any way. He was a believer in the 19th-century concept of an all-pervasive ether that transmitted electrical energy.[266]\\n',\n",
       " \"Tesla was generally antagonistic towards theories about the conversion of matter into energy.[267] He was also critical of Einstein's theory of relativity, saying:\\n\",\n",
       " 'I hold that space cannot be curved, for the simple reason that it can have no properties. It might as well be said that God has properties. He has not, but only attributes and these are of our own making. Of properties we can only speak when dealing with matter filling the space. To say that in the presence of large bodies space becomes curved is equivalent to stating that something can act upon nothing. I, for one, refuse to subscribe to such a view.[268]',\n",
       " 'In 1935 he described relativity as \"a beggar wrapped in purple whom ignorant people take for a king\" and said his own experiments had measured the speed of cosmic rays from Arcturus as fifty times the speed of light.[269]\\n',\n",
       " 'Tesla claimed to have developed his own physical principle regarding matter and energy that he started working on in 1892,[267] and in 1937, at age 81, claimed in a letter to have completed a \"dynamic theory of gravity\" that \"[would] put an end to idle speculations and false conceptions, as that of curved space\". He stated that the theory was \"worked out in all details\" and that he hoped to soon give it to the world.[270] Further elucidation of his theory was never found in his writings.[271]\\n',\n",
       " 'Tesla is widely considered by his biographers to have been a humanist in philosophical outlook.[272][273] This did not preclude Tesla, like many of his era, from becoming a proponent of an imposed selective breeding version of eugenics.\\n',\n",
       " 'Tesla expressed the belief that human \"pity\" had come to interfere with the natural \"ruthless workings of nature\". Though his argumentation did not depend on a concept of a \"master race\" or the inherent superiority of one person over another, he advocated for eugenics. In a 1937 interview he stated:\\n',\n",
       " \"...\\xa0man's new sense of pity began to interfere with the ruthless workings of nature. The only method compatible with our notions of civilization and the race is to prevent the breeding of the unfit by sterilization and the deliberate guidance of the mating instinct\\xa0... The trend of opinion among eugenists is that we must make marriage more difficult. Certainly no one who is not a desirable parent should be permitted to produce progeny. A century from now it will no more occur to a normal person to mate with a person eugenically unfit than to marry a habitual criminal.[274]\",\n",
       " 'In 1926, Tesla commented on the ills of the social subservience of women and the struggle of women toward gender equality, and indicated that humanity\\'s future would be run by \"Queen Bees\". He believed that women would become the dominant sex in the future.[275]\\n',\n",
       " 'Tesla made predictions about the relevant issues of a post-World War I environment in a printed article entitled \"Science and Discovery are the great Forces which will lead to the Consummation of the War\" (20 December 1914).[276] Tesla believed that the League of Nations was not a remedy for the times and issues.[23][better\\xa0source\\xa0needed]\\n',\n",
       " 'Tesla was raised an Orthodox Christian. Later in life he did not consider himself to be a \"believer in the orthodox sense\", said he opposed religious fanaticism, and said \"Buddhism and Christianity are the greatest religions both in number of disciples and in importance.\"[277] He also said \"To me, the universe is simply a great machine which never came into being and never will end\" and \"what we call \\'soul\\' or \\'spirit,\\' is nothing more than the sum of the functionings of the body. When this functioning ceases, the \\'soul\\' or the \\'spirit\\' ceases likewise.\"[277]\\n',\n",
       " 'Tesla wrote a number of books and articles for magazines and journals.[278] Among his books are My Inventions: The Autobiography of Nikola Tesla, compiled and edited by Ben Johnston in 1983 from a series of 1919 magazine articles by Tesla which were republished in 1977; The Fantastic Inventions of Nikola Tesla (1993), compiled and edited by David Hatcher Childress; and The Tesla Papers.\\n',\n",
       " 'Many of Tesla\\'s writings are freely available online,[279] including the article \"The Problem of Increasing Human Energy\", published in The Century Magazine in 1900,[280] and the article \"Experiments with Alternate Currents of High Potential and High Frequency\", published in his book Inventions, Researches and Writings of Nikola Tesla.[281][282]\\n',\n",
       " \"Tesla's legacy has endured in books, films, radio, TV, music, live theater, comics, and video games. The impact of the technologies invented or envisioned by Tesla is a recurring theme in several types of science fiction.\\n\",\n",
       " 'Footnotes\\n',\n",
       " 'Citations\\n',\n",
       " 'Books\\n',\n",
       " 'Publications\\n',\n",
       " 'Journals\\n',\n",
       " 'Video\\n']"
      ]
     },
     "execution_count": 33,
     "metadata": {},
     "output_type": "execute_result"
    }
   ],
   "source": [
    "paragraphs"
   ]
  },
  {
   "cell_type": "code",
   "execution_count": 34,
   "id": "dde54aee",
   "metadata": {},
   "outputs": [],
   "source": [
    "#DATA CLEANING (DUPLICATES,NA VALUES)\n",
    "# Create a Pandas DataFrame\n",
    "df = pd.DataFrame({\"Text\": paragraphs})\n",
    "\n",
    "# Basic data cleaning\n",
    "df['Text'] = df['Text'].str.strip()\n",
    "\n",
    "# Handling missing values\n",
    "df.dropna(inplace=True)\n",
    "\n",
    "# Removing duplicates\n",
    "df.drop_duplicates(inplace=True)\n",
    "\n",
    "# Saving cleaned data to a CSV file\n",
    "df.to_csv('cleaned_data.csv', index=False)"
   ]
  },
  {
   "cell_type": "code",
   "execution_count": 35,
   "id": "5396cf26",
   "metadata": {},
   "outputs": [],
   "source": [
    "data = pd.read_csv('cleaned_data.csv')"
   ]
  },
  {
   "cell_type": "code",
   "execution_count": 36,
   "id": "cf4c6d6c",
   "metadata": {},
   "outputs": [
    {
     "data": {
      "text/plain": [
       "(123, 1)"
      ]
     },
     "execution_count": 36,
     "metadata": {},
     "output_type": "execute_result"
    }
   ],
   "source": [
    "data.shape"
   ]
  },
  {
   "cell_type": "code",
   "execution_count": 37,
   "id": "a28062a7",
   "metadata": {},
   "outputs": [
    {
     "name": "stdout",
     "output_type": "stream",
     "text": [
      "<class 'pandas.core.frame.DataFrame'>\n",
      "RangeIndex: 123 entries, 0 to 122\n",
      "Data columns (total 1 columns):\n",
      " #   Column  Non-Null Count  Dtype \n",
      "---  ------  --------------  ----- \n",
      " 0   Text    122 non-null    object\n",
      "dtypes: object(1)\n",
      "memory usage: 1.1+ KB\n"
     ]
    }
   ],
   "source": [
    "data.info()"
   ]
  },
  {
   "cell_type": "code",
   "execution_count": 38,
   "id": "d71ebb2f",
   "metadata": {},
   "outputs": [],
   "source": [
    "# Saving plain text to a text file\n",
    "with open('plain_text.txt', 'w', encoding='utf-8') as file:\n",
    "    file.write('\\n'.join(paragraphs))\n",
    "\n",
    "# Saving HTML text to a text file\n",
    "with open('html_text.html', 'w', encoding='utf-8') as file:\n",
    "    file.write(page_source)"
   ]
  },
  {
   "cell_type": "code",
   "execution_count": 45,
   "id": "3ff5509c",
   "metadata": {},
   "outputs": [],
   "source": [
    "# Extracting hyperlinks\n",
    "soup = BeautifulSoup(page_source, 'html.parser')\n",
    "links = soup.find_all('a', href=True)\n",
    "\n",
    "# Ensure paragraphs and links have the same length\n",
    "min_length = min(len(paragraphs), len(links))\n",
    "paragraphs = paragraphs[:min_length]\n",
    "links = links[:min_length]\n",
    "\n",
    "# Create a DataFrame with 'Text' and 'Link' columns\n",
    "links_df = pd.DataFrame({\n",
    "    'Text': paragraphs,\n",
    "    'Link': [link['href'] for link in links]\n",
    "})"
   ]
  },
  {
   "cell_type": "code",
   "execution_count": 46,
   "id": "8bf575bd",
   "metadata": {},
   "outputs": [
    {
     "data": {
      "text/html": [
       "<div>\n",
       "<style scoped>\n",
       "    .dataframe tbody tr th:only-of-type {\n",
       "        vertical-align: middle;\n",
       "    }\n",
       "\n",
       "    .dataframe tbody tr th {\n",
       "        vertical-align: top;\n",
       "    }\n",
       "\n",
       "    .dataframe thead th {\n",
       "        text-align: right;\n",
       "    }\n",
       "</style>\n",
       "<table border=\"1\" class=\"dataframe\">\n",
       "  <thead>\n",
       "    <tr style=\"text-align: right;\">\n",
       "      <th></th>\n",
       "      <th>Text</th>\n",
       "      <th>Link</th>\n",
       "    </tr>\n",
       "  </thead>\n",
       "  <tbody>\n",
       "    <tr>\n",
       "      <th>0</th>\n",
       "      <td>\\n</td>\n",
       "      <td>#bodyContent</td>\n",
       "    </tr>\n",
       "    <tr>\n",
       "      <th>1</th>\n",
       "      <td>Nikola Tesla (/ˈtɛslə/; Serbian Cyrillic: Нико...</td>\n",
       "      <td>/wiki/Main_Page</td>\n",
       "    </tr>\n",
       "    <tr>\n",
       "      <th>2</th>\n",
       "      <td>Born and raised in the Austrian Empire, Tesla ...</td>\n",
       "      <td>/wiki/Wikipedia:Contents</td>\n",
       "    </tr>\n",
       "    <tr>\n",
       "      <th>3</th>\n",
       "      <td>Attempting to develop inventions he could pate...</td>\n",
       "      <td>/wiki/Portal:Current_events</td>\n",
       "    </tr>\n",
       "    <tr>\n",
       "      <th>4</th>\n",
       "      <td>After Wardenclyffe, Tesla experimented with a ...</td>\n",
       "      <td>/wiki/Special:Random</td>\n",
       "    </tr>\n",
       "    <tr>\n",
       "      <th>...</th>\n",
       "      <td>...</td>\n",
       "      <td>...</td>\n",
       "    </tr>\n",
       "    <tr>\n",
       "      <th>118</th>\n",
       "      <td>Citations\\n</td>\n",
       "      <td>https://gu.wikipedia.org/wiki/%E0%AA%A8%E0%AA%...</td>\n",
       "    </tr>\n",
       "    <tr>\n",
       "      <th>119</th>\n",
       "      <td>Books\\n</td>\n",
       "      <td>https://ko.wikipedia.org/wiki/%EB%8B%88%EC%BD%...</td>\n",
       "    </tr>\n",
       "    <tr>\n",
       "      <th>120</th>\n",
       "      <td>Publications\\n</td>\n",
       "      <td>https://ha.wikipedia.org/wiki/Nikola_Tesla</td>\n",
       "    </tr>\n",
       "    <tr>\n",
       "      <th>121</th>\n",
       "      <td>Journals\\n</td>\n",
       "      <td>https://hy.wikipedia.org/wiki/%D5%86%D5%AB%D5%...</td>\n",
       "    </tr>\n",
       "    <tr>\n",
       "      <th>122</th>\n",
       "      <td>Video\\n</td>\n",
       "      <td>https://hi.wikipedia.org/wiki/%E0%A4%A8%E0%A4%...</td>\n",
       "    </tr>\n",
       "  </tbody>\n",
       "</table>\n",
       "<p>123 rows × 2 columns</p>\n",
       "</div>"
      ],
      "text/plain": [
       "                                                  Text  \\\n",
       "0                                                   \\n   \n",
       "1    Nikola Tesla (/ˈtɛslə/; Serbian Cyrillic: Нико...   \n",
       "2    Born and raised in the Austrian Empire, Tesla ...   \n",
       "3    Attempting to develop inventions he could pate...   \n",
       "4    After Wardenclyffe, Tesla experimented with a ...   \n",
       "..                                                 ...   \n",
       "118                                        Citations\\n   \n",
       "119                                            Books\\n   \n",
       "120                                     Publications\\n   \n",
       "121                                         Journals\\n   \n",
       "122                                            Video\\n   \n",
       "\n",
       "                                                  Link  \n",
       "0                                         #bodyContent  \n",
       "1                                      /wiki/Main_Page  \n",
       "2                             /wiki/Wikipedia:Contents  \n",
       "3                          /wiki/Portal:Current_events  \n",
       "4                                 /wiki/Special:Random  \n",
       "..                                                 ...  \n",
       "118  https://gu.wikipedia.org/wiki/%E0%AA%A8%E0%AA%...  \n",
       "119  https://ko.wikipedia.org/wiki/%EB%8B%88%EC%BD%...  \n",
       "120         https://ha.wikipedia.org/wiki/Nikola_Tesla  \n",
       "121  https://hy.wikipedia.org/wiki/%D5%86%D5%AB%D5%...  \n",
       "122  https://hi.wikipedia.org/wiki/%E0%A4%A8%E0%A4%...  \n",
       "\n",
       "[123 rows x 2 columns]"
      ]
     },
     "execution_count": 46,
     "metadata": {},
     "output_type": "execute_result"
    }
   ],
   "source": [
    "links_df"
   ]
  },
  {
   "cell_type": "code",
   "execution_count": 47,
   "id": "d99e05fc",
   "metadata": {},
   "outputs": [],
   "source": [
    "links_df.to_csv('links_data.csv', index=False)"
   ]
  },
  {
   "cell_type": "code",
   "execution_count": null,
   "id": "fbb6ec59",
   "metadata": {},
   "outputs": [],
   "source": []
  }
 ],
 "metadata": {
  "kernelspec": {
   "display_name": "Python 3 (ipykernel)",
   "language": "python",
   "name": "python3"
  },
  "language_info": {
   "codemirror_mode": {
    "name": "ipython",
    "version": 3
   },
   "file_extension": ".py",
   "mimetype": "text/x-python",
   "name": "python",
   "nbconvert_exporter": "python",
   "pygments_lexer": "ipython3",
   "version": "3.9.7"
  }
 },
 "nbformat": 4,
 "nbformat_minor": 5
}
